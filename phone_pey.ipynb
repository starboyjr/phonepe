{
  "nbformat": 4,
  "nbformat_minor": 0,
  "metadata": {
    "colab": {
      "provenance": [],
      "authorship_tag": "ABX9TyNwjp36QzGvkBfm09YwL1+C",
      "include_colab_link": true
    },
    "kernelspec": {
      "name": "python3",
      "display_name": "Python 3"
    },
    "language_info": {
      "name": "python"
    }
  },
  "cells": [
    {
      "cell_type": "markdown",
      "metadata": {
        "id": "view-in-github",
        "colab_type": "text"
      },
      "source": [
        "<a href=\"https://colab.research.google.com/github/starboyjr/phonepe/blob/main/phone_pey.ipynb\" target=\"_parent\"><img src=\"https://colab.research.google.com/assets/colab-badge.svg\" alt=\"Open In Colab\"/></a>"
      ]
    },
    {
      "cell_type": "code",
      "source": [
        "!git clone https://github.com/PhonePe/pulse.git"
      ],
      "metadata": {
        "id": "bMQMxkK9sL4I",
        "colab": {
          "base_uri": "https://localhost:8080/"
        },
        "outputId": "0174b277-f11a-4fbf-c5d9-e29fb51fe515"
      },
      "execution_count": null,
      "outputs": [
        {
          "output_type": "stream",
          "name": "stdout",
          "text": [
            "fatal: destination path 'pulse' already exists and is not an empty directory.\n"
          ]
        }
      ]
    },
    {
      "cell_type": "code",
      "source": [
        "import pandas as pd\n",
        "import json \n",
        "import os"
      ],
      "metadata": {
        "id": "ydTSvp0JsgX5"
      },
      "execution_count": null,
      "outputs": []
    },
    {
      "cell_type": "code",
      "source": [
        "#agg_transcation"
      ],
      "metadata": {
        "id": "3RfZV_E1AIaD"
      },
      "execution_count": null,
      "outputs": []
    },
    {
      "cell_type": "code",
      "source": [
        "path = \"/content/pulse/data/aggregated/transaction/country/india/state/\""
      ],
      "metadata": {
        "id": "hibFheh_swEC"
      },
      "execution_count": null,
      "outputs": []
    },
    {
      "cell_type": "code",
      "source": [
        "agg_st_list = os.listdir(path)\n",
        "agg_st_list"
      ],
      "metadata": {
        "id": "AJ9a2mL3tp4G"
      },
      "execution_count": null,
      "outputs": []
    },
    {
      "cell_type": "code",
      "source": [
        "clm = {'States':[], 'Transaction_Year':[],'Quarters':[],'Transaction_Type':[], 'Transaction_Count':[], 'Transaction_Amount':[]}\n",
        "for i in agg_st_list:\n",
        "  p_i = path+i+\"/\"\n",
        "  agg_yr = os.listdir(p_i)\n",
        "  for j in agg_yr:\n",
        "    p_j = p_i+j+\"/\"\n",
        "    agg_yr_lt = os.listdir(p_j)\n",
        "    for k in agg_yr_lt:\n",
        "      p_k = p_j+k\n",
        "      data = open(p_k,\"r\")\n",
        "      d = json.load(data)\n",
        "      for z in d[\"data\"][\"transactionData\"]:\n",
        "        Name = z[\"name\"]\n",
        "        count = z[\"paymentInstruments\"][0][\"count\"]\n",
        "        amount = z[\"paymentInstruments\"][0][\"amount\"]\n",
        "        clm['Transaction_Type'].append(Name)\n",
        "        clm['Transaction_Count'].append(count)\n",
        "        clm['Transaction_Amount'].append(amount)\n",
        "        clm['States'].append(i)\n",
        "        clm['Transaction_Year'].append(j)\n",
        "        clm['Quarters'].append(int(k.strip('.json')))\n",
        "df1 = pd.DataFrame(clm)"
      ],
      "metadata": {
        "id": "2E9n_T_YuMjs"
      },
      "execution_count": null,
      "outputs": []
    },
    {
      "cell_type": "code",
      "source": [
        "df1.info()"
      ],
      "metadata": {
        "id": "ASVy-Yz0u_sr"
      },
      "execution_count": null,
      "outputs": []
    },
    {
      "cell_type": "code",
      "source": [
        "#agg_users"
      ],
      "metadata": {
        "id": "wbSKBVBtALgQ"
      },
      "execution_count": null,
      "outputs": []
    },
    {
      "cell_type": "code",
      "source": [
        "path1 = \"/content/pulse/data/aggregated/user/country/india/state/\"\n",
        "agg_st_ulist = os.listdir(path1)\n",
        "agg_st_ulist"
      ],
      "metadata": {
        "id": "dRu1LOak18aZ"
      },
      "execution_count": null,
      "outputs": []
    },
    {
      "cell_type": "code",
      "source": [
        "clm1 = {'States':[], 'Transaction_Year':[],'Quarters':[],'Transaction_Type':[], 'Transaction_Count':[], 'Transaction_Amount':[]}\n",
        "for i in agg_st_ulist:\n",
        "  p_i = path1+i+\"/\"\n",
        "  agg_uyr = os.listdir(p_i)\n",
        "  for j in agg_uyr:\n",
        "    p_j = p_i+j+\"/\"\n",
        "    agg_uyr_lt = os.listdir(p_j)\n",
        "    for k in agg_uyr_lt:\n",
        "      p_k = p_j+k\n",
        "      data = open(p_k,\"r\")\n",
        "      d = json.load(data)\n",
        "      try:\n",
        "        for x in d[\"data\"][\"usersByDevice\"]:\n",
        "              Name = x[\"brand\"]\n",
        "              #print(Name)\n",
        "              count = x[\"count\"]\n",
        "              percent = x[\"percentage\"]\n",
        "              clm1['Transaction_Type'].append(Name)\n",
        "              clm1['Transaction_Count'].append(count)\n",
        "              clm1['Transaction_Amount'].append(percent)\n",
        "              clm1['States'].append(i)\n",
        "              clm1['Transaction_Year'].append(j)\n",
        "              clm1['Quarters'].append(int(k.strip('.json')))\n",
        "      except:\n",
        "         pass    \n",
        "df2 = pd.DataFrame(clm1)"
      ],
      "metadata": {
        "id": "6v51V_quANsp"
      },
      "execution_count": null,
      "outputs": []
    },
    {
      "cell_type": "code",
      "source": [
        "df2.info()"
      ],
      "metadata": {
        "id": "jVTZWxE-qhFR"
      },
      "execution_count": null,
      "outputs": []
    },
    {
      "cell_type": "code",
      "source": [
        "#map_trans"
      ],
      "metadata": {
        "id": "Inuh_Kscu81Z"
      },
      "execution_count": null,
      "outputs": []
    },
    {
      "cell_type": "code",
      "source": [
        "path2 = \"/content/pulse/data/map/transaction/hover/country/india/state/\"\n",
        "agg_mp_list = os.listdir(path2)\n",
        "agg_mp_list"
      ],
      "metadata": {
        "id": "OL-ZT7yCwp8g"
      },
      "execution_count": null,
      "outputs": []
    },
    {
      "cell_type": "code",
      "source": [
        "clm2 = {'States':[], 'Transaction_Year':[],'Quarters':[],'District':[], 'Transaction_Count':[], 'Transaction_Amount':[]}\n",
        "for i in agg_mp_list:\n",
        "  p_i = path2+i+\"/\"\n",
        "  agg_yr = os.listdir(p_i)\n",
        "  for j in agg_yr:\n",
        "    p_j = p_i+j+\"/\"\n",
        "    agg_yr_lt = os.listdir(p_j)\n",
        "    for k in agg_yr_lt:\n",
        "      p_k = p_j+k\n",
        "      data = open(p_k,\"r\")\n",
        "      d = json.load(data)\n",
        "      for z in d[\"data\"][\"hoverDataList\"]:\n",
        "        Name = z[\"name\"]\n",
        "        count = z[\"metric\"][0][\"count\"]\n",
        "        amount = z[\"metric\"][0][\"amount\"]\n",
        "        clm2[\"District\"].append(Name)\n",
        "        clm2[\"Transaction_Count\"].append(count)\n",
        "        clm2['Transaction_Amount'].append(amount)\n",
        "        clm2[\"States\"].append(i)\n",
        "        clm2[\"Transaction_Year\"].append(j)\n",
        "        clm2[\"Quarters\"].append(int(k.strip(\" .json\")))\n",
        "df3 = pd.DataFrame(clm2)        "
      ],
      "metadata": {
        "id": "orG5lEXOvKnF"
      },
      "execution_count": null,
      "outputs": []
    },
    {
      "cell_type": "code",
      "source": [
        "df3"
      ],
      "metadata": {
        "id": "66irehtk12e7"
      },
      "execution_count": null,
      "outputs": []
    },
    {
      "cell_type": "code",
      "source": [
        "#map_user"
      ],
      "metadata": {
        "id": "lvk6qeum2HzL"
      },
      "execution_count": null,
      "outputs": []
    },
    {
      "cell_type": "code",
      "source": [
        "path3 = \"/content/pulse/data/map/user/hover/country/india/state/\"\n",
        "agg_mp_user = os.listdir(path3)\n",
        "agg_mp_user"
      ],
      "metadata": {
        "id": "YFKv11Y02LQm"
      },
      "execution_count": null,
      "outputs": []
    },
    {
      "cell_type": "code",
      "source": [
        "clm3 = {'States':[], 'Transaction_Year':[],'Quarter':[],'District':[], 'RegisteredUsers':[], 'AppUsers':[]}\n",
        "for i in agg_mp_user:\n",
        "  p_i = path3+i+\"/\"\n",
        "  agg_yr = os.listdir(p_i)\n",
        "  for j in agg_yr:\n",
        "    p_j = p_i+j+\"/\"\n",
        "    agg_yr_lt = os.listdir(p_j)\n",
        "    for k in agg_yr_lt:\n",
        "      p_k = p_j+k\n",
        "      data = open(p_k,\"r\")\n",
        "      d = json.load(data)\n",
        "      try:\n",
        "       for z,values in d[\"data\"][\"hoverData\"].items():\n",
        "           Name = z\n",
        "           count = values[\"registeredUsers\"]\n",
        "           app = values[\"appOpens\"]\n",
        "           clm3[\"District\"].append(Name)\n",
        "           clm3[\"RegisteredUsers\"].append(count)\n",
        "           clm3['AppUsers'].append(app)\n",
        "           clm3[\"States\"].append(i)\n",
        "           clm3[\"Transaction_Year\"].append(j)\n",
        "           clm3[\"Quarter\"].append(int(k.strip(\" .json\")))     \n",
        "      except:\n",
        "        pass\n",
        "\n",
        "df4 = pd.DataFrame(clm3)  "
      ],
      "metadata": {
        "id": "Wu0JYuyL3Gsa"
      },
      "execution_count": null,
      "outputs": []
    },
    {
      "cell_type": "code",
      "source": [
        "df4"
      ],
      "metadata": {
        "id": "udS1PbtB8De9"
      },
      "execution_count": null,
      "outputs": []
    },
    {
      "cell_type": "code",
      "source": [
        "#agg_top"
      ],
      "metadata": {
        "id": "YnUuBnkfKx5s"
      },
      "execution_count": null,
      "outputs": []
    },
    {
      "cell_type": "code",
      "source": [
        "path4 = \"/content/pulse/data/top/transaction/country/india/state/\"\n",
        "agg_tp_tn = os.listdir(path4)\n",
        "agg_tp_tn"
      ],
      "metadata": {
        "id": "1CjhFcE-v70_"
      },
      "execution_count": null,
      "outputs": []
    },
    {
      "cell_type": "code",
      "source": [
        "clm4 = {'States':[], 'Transaction_Year':[],'Quarters':[],'District':[],'Transaction_Type':[], 'Transaction_Count':[], 'Transaction_Amount':[]}\n",
        "for i in agg_tp_tn:\n",
        "  p_i = path4+i+\"/\"\n",
        "  agg_yr = os.listdir(p_i)\n",
        "  for j in agg_yr:\n",
        "    p_j = p_i+j+\"/\"\n",
        "    agg_yr_lt = os.listdir(p_j)\n",
        "    for k in agg_yr_lt:\n",
        "      p_k = p_j+k\n",
        "      data = open(p_k,\"r\")\n",
        "      d = json.load(data)\n",
        "      for z  in d[\"data\"][\"districts\"]:\n",
        "         Name = z[\"entityName\"]\n",
        "         Type = z[\"metric\"][\"type\"]\n",
        "         count = z[\"metric\"][\"count\"]\n",
        "         amount = z[\"metric\"][\"amount\"]\n",
        "         clm4[\"District\"].append(Name)\n",
        "         clm4['Transaction_Type'].append(Type)\n",
        "         clm4[\"Transaction_Count\"].append(count)\n",
        "         clm4['Transaction_Amount'].append(amount)\n",
        "         clm4[\"States\"].append(i)\n",
        "         clm4[\"Transaction_Year\"].append(j)\n",
        "         clm4[\"Quarters\"].append(int(k.strip(\" .json\")))\n",
        "df5 = pd.DataFrame(clm4)      "
      ],
      "metadata": {
        "id": "DHtRWBU_xyIS"
      },
      "execution_count": null,
      "outputs": []
    },
    {
      "cell_type": "code",
      "source": [
        "df5"
      ],
      "metadata": {
        "id": "AUeLH2Fqxg4u"
      },
      "execution_count": null,
      "outputs": []
    },
    {
      "cell_type": "code",
      "source": [
        "#agg_top_user"
      ],
      "metadata": {
        "id": "rzmr5cpCxyrm"
      },
      "execution_count": null,
      "outputs": []
    },
    {
      "cell_type": "code",
      "source": [
        "path5 = \"/content/pulse/data/top/user/country/india/state/\"\n",
        "agg_tp_us = os.listdir(path5)\n",
        "agg_tp_us"
      ],
      "metadata": {
        "id": "_sKc5un0K5Y9"
      },
      "execution_count": null,
      "outputs": []
    },
    {
      "cell_type": "code",
      "source": [
        "clm5 = {'State':[], 'Transaction_Year':[],'Quarter':[],'District':[], 'RegisteredUsers':[]}\n",
        "for i in agg_tp_us:\n",
        "  p_i = path5+i+\"/\"\n",
        "  agg_yr = os.listdir(p_i)\n",
        "  for j in agg_yr:\n",
        "    p_j = p_i+j+\"/\"\n",
        "    agg_yr_lt = os.listdir(p_j)\n",
        "    for k in agg_yr_lt:\n",
        "      p_k = p_j+k\n",
        "      data = open(p_k,\"r\")\n",
        "      d = json.load(data)\n",
        "      for z  in d[\"data\"][\"districts\"]:\n",
        "         Name = z[\"name\"]\n",
        "         count = z[\"registeredUsers\"]\n",
        "         clm5['District'].append(Name)\n",
        "         clm5['RegisteredUsers'].append(count)\n",
        "         clm5[\"State\"].append(i)\n",
        "         clm5[\"Transaction_Year\"].append(j)\n",
        "         clm5[\"Quarter\"].append(int(k.strip(\" .json\")))\n",
        "\n",
        "\n",
        "df6 = pd.DataFrame(clm5)      "
      ],
      "metadata": {
        "id": "f_jqX1AIK-ip"
      },
      "execution_count": null,
      "outputs": []
    },
    {
      "cell_type": "code",
      "source": [
        "df6"
      ],
      "metadata": {
        "id": "obvzpaQQO8j2"
      },
      "execution_count": null,
      "outputs": []
    },
    {
      "cell_type": "code",
      "source": [
        "d1 = df1\n",
        "d2 = df2\n",
        "d3 = df3\n",
        "d4 = df4\n",
        "d5 = df5\n",
        "d6 = df6"
      ],
      "metadata": {
        "id": "-W_IouBoV_LM"
      },
      "execution_count": null,
      "outputs": []
    },
    {
      "cell_type": "code",
      "source": [
        "# drop any duplicates\n",
        "d1 = d1.drop_duplicates()\n",
        "d2 = d2.drop_duplicates()\n",
        "d3 = d3.drop_duplicates()\n",
        "d4 = d4.drop_duplicates()\n",
        "d5 = d5.drop_duplicates()\n",
        "d6 = d6.drop_duplicates()\n"
      ],
      "metadata": {
        "id": "p6iJBdRWJWc9"
      },
      "execution_count": null,
      "outputs": []
    },
    {
      "cell_type": "code",
      "source": [
        "# checking null values"
      ],
      "metadata": {
        "id": "1-z9P41MUhv3"
      },
      "execution_count": null,
      "outputs": []
    },
    {
      "cell_type": "code",
      "source": [
        "null_counts = d1.isnull().sum()\n",
        "print(null_counts)"
      ],
      "metadata": {
        "id": "oLWqGF9iJx_w"
      },
      "execution_count": null,
      "outputs": []
    },
    {
      "cell_type": "code",
      "source": [
        "null_counts = d2.isnull().sum()\n",
        "print(null_counts)"
      ],
      "metadata": {
        "id": "8gYdFDZWKNKb"
      },
      "execution_count": null,
      "outputs": []
    },
    {
      "cell_type": "code",
      "source": [
        "null_counts = d3.isnull().sum()\n",
        "print(null_counts)"
      ],
      "metadata": {
        "id": "yn9z580gT0BC"
      },
      "execution_count": null,
      "outputs": []
    },
    {
      "cell_type": "code",
      "source": [
        "null_counts = d4.isnull().sum()\n",
        "print(null_counts)"
      ],
      "metadata": {
        "id": "vqDodEBrT0nf"
      },
      "execution_count": null,
      "outputs": []
    },
    {
      "cell_type": "code",
      "source": [
        "null_counts = d5.isnull().sum()\n",
        "print(null_counts)"
      ],
      "metadata": {
        "id": "Lmzqdye0T3EK"
      },
      "execution_count": null,
      "outputs": []
    },
    {
      "cell_type": "code",
      "source": [
        "null_counts = d6.isnull().sum()\n",
        "print(null_counts)"
      ],
      "metadata": {
        "id": "GNHDfZDnT2X9"
      },
      "execution_count": null,
      "outputs": []
    },
    {
      "cell_type": "code",
      "source": [
        "# converting dataframe to csv"
      ],
      "metadata": {
        "id": "AcIpCI36UziB"
      },
      "execution_count": null,
      "outputs": []
    },
    {
      "cell_type": "code",
      "source": [
        "d1.to_csv(\"agg_trans.csv\",index = False) \n",
        "d2.to_csv (\"agg_user.csv\",index = False)\n",
        "d3.to_csv(\"map_tran.csv\",index = False)\n",
        "d4.to_csv(\"map_user.csv\",index = False)\n",
        "d5.to_csv(\"top_tran.csv\",index = False)\n",
        "d6.to_csv(\"top_user.csv\",index = False)"
      ],
      "metadata": {
        "id": "VAxolbleU6B5"
      },
      "execution_count": null,
      "outputs": []
    },
    {
      "cell_type": "code",
      "source": [
        "# read the csv file\n",
        "agg_trans = pd.read_csv(\"/content/agg_trans.csv\")\n",
        "agg_user = pd.read_csv(\"/content/agg_user.csv\")\n",
        "map_tran = pd.read_csv(\"/content/map_tran.csv\")\n",
        "map_user = pd.read_csv(\"/content/map_user.csv\")\n",
        "top_tran = pd.read_csv(\"/content/top_tran.csv\")\n",
        "top_user = pd.read_csv(\"/content/agg_user.csv\")"
      ],
      "metadata": {
        "id": "mIpf4lEUXes7"
      },
      "execution_count": null,
      "outputs": []
    },
    {
      "cell_type": "code",
      "source": [
        "agg_trans"
      ],
      "metadata": {
        "id": "7HNG7iVIZrtn"
      },
      "execution_count": null,
      "outputs": []
    }
  ]
}